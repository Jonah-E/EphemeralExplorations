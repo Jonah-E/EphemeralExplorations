{
 "cells": [
  {
   "cell_type": "markdown",
   "id": "62bf594b-9f2a-4c4c-a09a-d83c6bce8b56",
   "metadata": {},
   "source": [
    "# Monty Hall problem\n",
    "[Wikipedia](https://en.wikipedia.org/wiki/Monty_Hall_problem)"
   ]
  },
  {
   "cell_type": "code",
   "execution_count": 74,
   "id": "ddba5ad8-054d-4aa2-9f3a-2c78dd2e2584",
   "metadata": {},
   "outputs": [],
   "source": [
    "import numpy as np\n",
    "np.random.seed(42)\n",
    "\n",
    "def monty_hall(switch = False, nr_doors = 3):\n",
    "    doors = np.zeros((nr_doors)).astype(np.bool)\n",
    "    #Set one door to have a car\n",
    "    doors[np.random.randint(0,nr_doors)] = True\n",
    "\n",
    "    #Make a selection\n",
    "    selection = np.zeros((nr_doors)).astype(np.bool)\n",
    "    selection[np.random.randint(0,nr_doors)] = True\n",
    "\n",
    "    #Open one door not selected and not with a car\n",
    "    index = (~selection & ~doors)\n",
    "    doors_open = np.zeros((nr_doors)).astype(np.bool)\n",
    "    index = np.random.choice(np.where(~selection & ~doors)[0])\n",
    "    doors_open[index] = True\n",
    "\n",
    "    #Do you switch?\n",
    "    if switch: \n",
    "        #This does not work with varible doors\n",
    "        selection = (~selection & ~doors_open)\n",
    "\n",
    "    return (selection == doors).all()\n"
   ]
  },
  {
   "cell_type": "code",
   "execution_count": 89,
   "id": "d2fac54a-d790-42e8-acbf-7db132cf86d9",
   "metadata": {},
   "outputs": [
    {
     "data": {
      "text/plain": [
       "<Axes: xlabel='Result', ylabel='Count'>"
      ]
     },
     "execution_count": 89,
     "metadata": {},
     "output_type": "execute_result"
    },
    {
     "data": {
      "image/png": "[encoded data removed]",
      "text/plain": [
       "<Figure size 640x480 with 1 Axes>"
      ]
     },
     "metadata": {},
     "output_type": "display_data"
    }
   ],
   "source": [
    "numer_of_runs = 1000\n",
    "results = {'Result': [], 'Count': [], 'Switch': []}\n",
    "for i, switch in enumerate([False, True]):\n",
    "    tmp = np.zeros((2))\n",
    "    for i in range(numer_of_runs):\n",
    "        tmp[int(monty_hall(switch))] +=  1\n",
    "    results['Result'].append('Losses')\n",
    "    results['Count'].append(tmp[0])\n",
    "    results['Switch'].append(switch)\n",
    "    results['Result'].append('Winns')\n",
    "    results['Count'].append(tmp[1])\n",
    "    results['Switch'].append(switch)\n",
    "    \n",
    "import seaborn as sns\n",
    "sns.set_theme()\n",
    "sns.barplot(results, x = 'Result', y = 'Count', hue = 'Switch')"
   ]
  },
  {
   "cell_type": "code",
   "execution_count": 84,
   "id": "e76fc7b1-fc74-48f5-bc3a-edc6331056ac",
   "metadata": {},
   "outputs": [
    {
     "data": {
      "text/plain": [
       "0"
      ]
     },
     "execution_count": 84,
     "metadata": {},
     "output_type": "execute_result"
    }
   ],
   "source": []
  },
  {
   "cell_type": "code",
   "execution_count": null,
   "id": "080dad4c-4566-447f-ac00-1b3a33015db8",
   "metadata": {},
   "outputs": [],
   "source": []
  }
 ],
 "metadata": {
  "kernelspec": {
   "display_name": "torch",
   "language": "python",
   "name": "torch"
  },
  "language_info": {
   "codemirror_mode": {
    "name": "ipython",
    "version": 3
   },
   "file_extension": ".py",
   "mimetype": "text/x-python",
   "name": "python",
   "nbconvert_exporter": "python",
   "pygments_lexer": "ipython3",
   "version": "3.12.3"
  }
 },
 "nbformat": 4,
 "nbformat_minor": 5
}
